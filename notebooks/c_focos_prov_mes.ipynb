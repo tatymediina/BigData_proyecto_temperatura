{
 "cells": [
  {
   "cell_type": "code",
   "execution_count": 1,
   "id": "bc0761ca",
   "metadata": {},
   "outputs": [],
   "source": [
    "import pandas as pd\n",
    "import matplotlib.pyplot as plt"
   ]
  },
  {
   "cell_type": "code",
   "execution_count": 64,
   "id": "e813f7ca",
   "metadata": {},
   "outputs": [
    {
     "data": {
      "text/html": [
       "<div>\n",
       "<style scoped>\n",
       "    .dataframe tbody tr th:only-of-type {\n",
       "        vertical-align: middle;\n",
       "    }\n",
       "\n",
       "    .dataframe tbody tr th {\n",
       "        vertical-align: top;\n",
       "    }\n",
       "\n",
       "    .dataframe thead th {\n",
       "        text-align: right;\n",
       "    }\n",
       "</style>\n",
       "<table border=\"1\" class=\"dataframe\">\n",
       "  <thead>\n",
       "    <tr style=\"text-align: right;\">\n",
       "      <th></th>\n",
       "      <th>jurisdicción</th>\n",
       "      <th>año</th>\n",
       "      <th>total</th>\n",
       "      <th>enero</th>\n",
       "      <th>febrero</th>\n",
       "      <th>marzo</th>\n",
       "      <th>abril</th>\n",
       "      <th>mayo</th>\n",
       "      <th>junio</th>\n",
       "      <th>julio</th>\n",
       "      <th>agosto</th>\n",
       "      <th>septiembre</th>\n",
       "      <th>octubre</th>\n",
       "      <th>noviembre</th>\n",
       "      <th>diciembre</th>\n",
       "    </tr>\n",
       "  </thead>\n",
       "  <tbody>\n",
       "    <tr>\n",
       "      <th>0</th>\n",
       "      <td>Buenos Aires</td>\n",
       "      <td>2015</td>\n",
       "      <td>8267</td>\n",
       "      <td>787</td>\n",
       "      <td>543</td>\n",
       "      <td>913</td>\n",
       "      <td>836</td>\n",
       "      <td>455</td>\n",
       "      <td>758</td>\n",
       "      <td>824</td>\n",
       "      <td>463</td>\n",
       "      <td>1062</td>\n",
       "      <td>441</td>\n",
       "      <td>513</td>\n",
       "      <td>672</td>\n",
       "    </tr>\n",
       "    <tr>\n",
       "      <th>1</th>\n",
       "      <td>Catamarca</td>\n",
       "      <td>2015</td>\n",
       "      <td>722</td>\n",
       "      <td>6</td>\n",
       "      <td>4</td>\n",
       "      <td>3</td>\n",
       "      <td>5</td>\n",
       "      <td>18</td>\n",
       "      <td>24</td>\n",
       "      <td>46</td>\n",
       "      <td>83</td>\n",
       "      <td>173</td>\n",
       "      <td>274</td>\n",
       "      <td>44</td>\n",
       "      <td>42</td>\n",
       "    </tr>\n",
       "    <tr>\n",
       "      <th>2</th>\n",
       "      <td>Chaco</td>\n",
       "      <td>2015</td>\n",
       "      <td>10698</td>\n",
       "      <td>140</td>\n",
       "      <td>169</td>\n",
       "      <td>574</td>\n",
       "      <td>178</td>\n",
       "      <td>105</td>\n",
       "      <td>402</td>\n",
       "      <td>1211</td>\n",
       "      <td>1833</td>\n",
       "      <td>3996</td>\n",
       "      <td>1519</td>\n",
       "      <td>261</td>\n",
       "      <td>310</td>\n",
       "    </tr>\n",
       "    <tr>\n",
       "      <th>3</th>\n",
       "      <td>Chubut</td>\n",
       "      <td>2015</td>\n",
       "      <td>6293</td>\n",
       "      <td>169</td>\n",
       "      <td>3963</td>\n",
       "      <td>1870</td>\n",
       "      <td>24</td>\n",
       "      <td>11</td>\n",
       "      <td>13</td>\n",
       "      <td>9</td>\n",
       "      <td>17</td>\n",
       "      <td>10</td>\n",
       "      <td>64</td>\n",
       "      <td>127</td>\n",
       "      <td>16</td>\n",
       "    </tr>\n",
       "    <tr>\n",
       "      <th>4</th>\n",
       "      <td>CABA</td>\n",
       "      <td>2015</td>\n",
       "      <td>3</td>\n",
       "      <td>0</td>\n",
       "      <td>0</td>\n",
       "      <td>0</td>\n",
       "      <td>0</td>\n",
       "      <td>0</td>\n",
       "      <td>1</td>\n",
       "      <td>0</td>\n",
       "      <td>0</td>\n",
       "      <td>1</td>\n",
       "      <td>0</td>\n",
       "      <td>1</td>\n",
       "      <td>0</td>\n",
       "    </tr>\n",
       "  </tbody>\n",
       "</table>\n",
       "</div>"
      ],
      "text/plain": [
       "   jurisdicción   año  total  enero  febrero  marzo  abril  mayo  junio  \\\n",
       "0  Buenos Aires  2015   8267    787      543    913    836   455    758   \n",
       "1     Catamarca  2015    722      6        4      3      5    18     24   \n",
       "2         Chaco  2015  10698    140      169    574    178   105    402   \n",
       "3        Chubut  2015   6293    169     3963   1870     24    11     13   \n",
       "4          CABA  2015      3      0        0      0      0     0      1   \n",
       "\n",
       "   julio  agosto  septiembre  octubre  noviembre  diciembre  \n",
       "0    824     463        1062      441        513        672  \n",
       "1     46      83         173      274         44         42  \n",
       "2   1211    1833        3996     1519        261        310  \n",
       "3      9      17          10       64        127         16  \n",
       "4      0       0           1        0          1          0  "
      ]
     },
     "execution_count": 64,
     "metadata": {},
     "output_type": "execute_result"
    }
   ],
   "source": [
    "df = pd.read_csv('../data/sucio/rii_d_cant_focos_calor_prov_2015_2024.csv', sep=';', quotechar='\"')\n",
    "df.head()"
   ]
  },
  {
   "cell_type": "code",
   "execution_count": 65,
   "id": "7775c5d0",
   "metadata": {},
   "outputs": [
    {
     "data": {
      "text/plain": [
       "(240, 15)"
      ]
     },
     "execution_count": 65,
     "metadata": {},
     "output_type": "execute_result"
    }
   ],
   "source": [
    "df.shape"
   ]
  },
  {
   "cell_type": "code",
   "execution_count": 66,
   "id": "4c9efaef",
   "metadata": {},
   "outputs": [
    {
     "data": {
      "text/plain": [
       "Index(['jurisdicción', 'año', 'total', 'enero', 'febrero', 'marzo', 'abril',\n",
       "       'mayo', 'junio', 'julio', 'agosto', 'septiembre', 'octubre',\n",
       "       'noviembre', 'diciembre'],\n",
       "      dtype='object')"
      ]
     },
     "execution_count": 66,
     "metadata": {},
     "output_type": "execute_result"
    }
   ],
   "source": [
    "df.columns"
   ]
  },
  {
   "cell_type": "code",
   "execution_count": 67,
   "id": "ff4da0dc",
   "metadata": {},
   "outputs": [],
   "source": [
    "df = df.replace(' ', 0)\n",
    "df = df.fillna(0)"
   ]
  },
  {
   "cell_type": "code",
   "execution_count": 68,
   "id": "d030af29",
   "metadata": {},
   "outputs": [],
   "source": [
    "numeric_cols = df.columns[2:]\n",
    "df[numeric_cols] = df[numeric_cols].apply(pd.to_numeric, errors='coerce')\n",
    "\n"
   ]
  },
  {
   "cell_type": "code",
   "execution_count": 69,
   "id": "fa44dcea",
   "metadata": {},
   "outputs": [
    {
     "data": {
      "text/plain": [
       "jurisdicción    object\n",
       "año              int64\n",
       "total            int64\n",
       "enero            int64\n",
       "febrero          int64\n",
       "marzo            int64\n",
       "abril            int64\n",
       "mayo             int64\n",
       "junio            int64\n",
       "julio            int64\n",
       "agosto           int64\n",
       "septiembre       int64\n",
       "octubre          int64\n",
       "noviembre        int64\n",
       "diciembre        int64\n",
       "dtype: object"
      ]
     },
     "execution_count": 69,
     "metadata": {},
     "output_type": "execute_result"
    }
   ],
   "source": [
    "df.dtypes"
   ]
  },
  {
   "cell_type": "code",
   "execution_count": 70,
   "id": "02bd577f",
   "metadata": {},
   "outputs": [
    {
     "data": {
      "text/plain": [
       "jurisdicción    0\n",
       "año             0\n",
       "total           0\n",
       "enero           0\n",
       "febrero         0\n",
       "marzo           0\n",
       "abril           0\n",
       "mayo            0\n",
       "junio           0\n",
       "julio           0\n",
       "agosto          0\n",
       "septiembre      0\n",
       "octubre         0\n",
       "noviembre       0\n",
       "diciembre       0\n",
       "dtype: int64"
      ]
     },
     "execution_count": 70,
     "metadata": {},
     "output_type": "execute_result"
    }
   ],
   "source": [
    "df.isnull().sum()"
   ]
  },
  {
   "cell_type": "code",
   "execution_count": 71,
   "id": "f6716641",
   "metadata": {},
   "outputs": [
    {
     "data": {
      "text/html": [
       "<div>\n",
       "<style scoped>\n",
       "    .dataframe tbody tr th:only-of-type {\n",
       "        vertical-align: middle;\n",
       "    }\n",
       "\n",
       "    .dataframe tbody tr th {\n",
       "        vertical-align: top;\n",
       "    }\n",
       "\n",
       "    .dataframe thead th {\n",
       "        text-align: right;\n",
       "    }\n",
       "</style>\n",
       "<table border=\"1\" class=\"dataframe\">\n",
       "  <thead>\n",
       "    <tr style=\"text-align: right;\">\n",
       "      <th></th>\n",
       "      <th>jurisdicción</th>\n",
       "      <th>año</th>\n",
       "      <th>total</th>\n",
       "      <th>enero</th>\n",
       "      <th>febrero</th>\n",
       "      <th>marzo</th>\n",
       "      <th>abril</th>\n",
       "      <th>mayo</th>\n",
       "      <th>junio</th>\n",
       "      <th>julio</th>\n",
       "      <th>agosto</th>\n",
       "      <th>septiembre</th>\n",
       "      <th>octubre</th>\n",
       "      <th>noviembre</th>\n",
       "      <th>diciembre</th>\n",
       "    </tr>\n",
       "  </thead>\n",
       "  <tbody>\n",
       "    <tr>\n",
       "      <th>0</th>\n",
       "      <td>Buenos Aires</td>\n",
       "      <td>2015</td>\n",
       "      <td>8267</td>\n",
       "      <td>787</td>\n",
       "      <td>543</td>\n",
       "      <td>913</td>\n",
       "      <td>836</td>\n",
       "      <td>455</td>\n",
       "      <td>758</td>\n",
       "      <td>824</td>\n",
       "      <td>463</td>\n",
       "      <td>1062</td>\n",
       "      <td>441</td>\n",
       "      <td>513</td>\n",
       "      <td>672</td>\n",
       "    </tr>\n",
       "    <tr>\n",
       "      <th>1</th>\n",
       "      <td>Catamarca</td>\n",
       "      <td>2015</td>\n",
       "      <td>722</td>\n",
       "      <td>6</td>\n",
       "      <td>4</td>\n",
       "      <td>3</td>\n",
       "      <td>5</td>\n",
       "      <td>18</td>\n",
       "      <td>24</td>\n",
       "      <td>46</td>\n",
       "      <td>83</td>\n",
       "      <td>173</td>\n",
       "      <td>274</td>\n",
       "      <td>44</td>\n",
       "      <td>42</td>\n",
       "    </tr>\n",
       "    <tr>\n",
       "      <th>2</th>\n",
       "      <td>Chaco</td>\n",
       "      <td>2015</td>\n",
       "      <td>10698</td>\n",
       "      <td>140</td>\n",
       "      <td>169</td>\n",
       "      <td>574</td>\n",
       "      <td>178</td>\n",
       "      <td>105</td>\n",
       "      <td>402</td>\n",
       "      <td>1211</td>\n",
       "      <td>1833</td>\n",
       "      <td>3996</td>\n",
       "      <td>1519</td>\n",
       "      <td>261</td>\n",
       "      <td>310</td>\n",
       "    </tr>\n",
       "    <tr>\n",
       "      <th>3</th>\n",
       "      <td>Chubut</td>\n",
       "      <td>2015</td>\n",
       "      <td>6293</td>\n",
       "      <td>169</td>\n",
       "      <td>3963</td>\n",
       "      <td>1870</td>\n",
       "      <td>24</td>\n",
       "      <td>11</td>\n",
       "      <td>13</td>\n",
       "      <td>9</td>\n",
       "      <td>17</td>\n",
       "      <td>10</td>\n",
       "      <td>64</td>\n",
       "      <td>127</td>\n",
       "      <td>16</td>\n",
       "    </tr>\n",
       "    <tr>\n",
       "      <th>4</th>\n",
       "      <td>CABA</td>\n",
       "      <td>2015</td>\n",
       "      <td>3</td>\n",
       "      <td>0</td>\n",
       "      <td>0</td>\n",
       "      <td>0</td>\n",
       "      <td>0</td>\n",
       "      <td>0</td>\n",
       "      <td>1</td>\n",
       "      <td>0</td>\n",
       "      <td>0</td>\n",
       "      <td>1</td>\n",
       "      <td>0</td>\n",
       "      <td>1</td>\n",
       "      <td>0</td>\n",
       "    </tr>\n",
       "  </tbody>\n",
       "</table>\n",
       "</div>"
      ],
      "text/plain": [
       "   jurisdicción   año  total  enero  febrero  marzo  abril  mayo  junio  \\\n",
       "0  Buenos Aires  2015   8267    787      543    913    836   455    758   \n",
       "1     Catamarca  2015    722      6        4      3      5    18     24   \n",
       "2         Chaco  2015  10698    140      169    574    178   105    402   \n",
       "3        Chubut  2015   6293    169     3963   1870     24    11     13   \n",
       "4          CABA  2015      3      0        0      0      0     0      1   \n",
       "\n",
       "   julio  agosto  septiembre  octubre  noviembre  diciembre  \n",
       "0    824     463        1062      441        513        672  \n",
       "1     46      83         173      274         44         42  \n",
       "2   1211    1833        3996     1519        261        310  \n",
       "3      9      17          10       64        127         16  \n",
       "4      0       0           1        0          1          0  "
      ]
     },
     "execution_count": 71,
     "metadata": {},
     "output_type": "execute_result"
    }
   ],
   "source": [
    "df.head()"
   ]
  },
  {
   "cell_type": "code",
   "execution_count": 77,
   "id": "e1724d2a",
   "metadata": {},
   "outputs": [],
   "source": [
    "\n",
    "df = df.drop('total', axis=1)"
   ]
  },
  {
   "cell_type": "code",
   "execution_count": 78,
   "id": "652b3075",
   "metadata": {},
   "outputs": [],
   "source": [
    "# Filtrar por rango de años\n",
    "df_filtrado = df[df['año'].between(2017, 2024)].copy()\n"
   ]
  },
  {
   "cell_type": "code",
   "execution_count": 79,
   "id": "07dbf589",
   "metadata": {},
   "outputs": [],
   "source": [
    "df.to_csv(\"../data/limpio/c_focos_prov_mes.csv\", index=False)"
   ]
  },
  {
   "cell_type": "code",
   "execution_count": 93,
   "id": "19e0b848",
   "metadata": {},
   "outputs": [
    {
     "data": {
      "text/html": [
       "<div>\n",
       "<style scoped>\n",
       "    .dataframe tbody tr th:only-of-type {\n",
       "        vertical-align: middle;\n",
       "    }\n",
       "\n",
       "    .dataframe tbody tr th {\n",
       "        vertical-align: top;\n",
       "    }\n",
       "\n",
       "    .dataframe thead th {\n",
       "        text-align: right;\n",
       "    }\n",
       "</style>\n",
       "<table border=\"1\" class=\"dataframe\">\n",
       "  <thead>\n",
       "    <tr style=\"text-align: right;\">\n",
       "      <th></th>\n",
       "      <th>jurisdicción</th>\n",
       "      <th>año</th>\n",
       "      <th>enero</th>\n",
       "      <th>febrero</th>\n",
       "      <th>marzo</th>\n",
       "      <th>abril</th>\n",
       "      <th>mayo</th>\n",
       "      <th>junio</th>\n",
       "      <th>julio</th>\n",
       "      <th>agosto</th>\n",
       "      <th>septiembre</th>\n",
       "      <th>octubre</th>\n",
       "      <th>noviembre</th>\n",
       "      <th>diciembre</th>\n",
       "    </tr>\n",
       "  </thead>\n",
       "  <tbody>\n",
       "    <tr>\n",
       "      <th>0</th>\n",
       "      <td>Buenos Aires</td>\n",
       "      <td>2015</td>\n",
       "      <td>787</td>\n",
       "      <td>543</td>\n",
       "      <td>913</td>\n",
       "      <td>836</td>\n",
       "      <td>455</td>\n",
       "      <td>758</td>\n",
       "      <td>824</td>\n",
       "      <td>463</td>\n",
       "      <td>1062</td>\n",
       "      <td>441</td>\n",
       "      <td>513</td>\n",
       "      <td>672</td>\n",
       "    </tr>\n",
       "    <tr>\n",
       "      <th>1</th>\n",
       "      <td>Catamarca</td>\n",
       "      <td>2015</td>\n",
       "      <td>6</td>\n",
       "      <td>4</td>\n",
       "      <td>3</td>\n",
       "      <td>5</td>\n",
       "      <td>18</td>\n",
       "      <td>24</td>\n",
       "      <td>46</td>\n",
       "      <td>83</td>\n",
       "      <td>173</td>\n",
       "      <td>274</td>\n",
       "      <td>44</td>\n",
       "      <td>42</td>\n",
       "    </tr>\n",
       "    <tr>\n",
       "      <th>2</th>\n",
       "      <td>Chaco</td>\n",
       "      <td>2015</td>\n",
       "      <td>140</td>\n",
       "      <td>169</td>\n",
       "      <td>574</td>\n",
       "      <td>178</td>\n",
       "      <td>105</td>\n",
       "      <td>402</td>\n",
       "      <td>1211</td>\n",
       "      <td>1833</td>\n",
       "      <td>3996</td>\n",
       "      <td>1519</td>\n",
       "      <td>261</td>\n",
       "      <td>310</td>\n",
       "    </tr>\n",
       "    <tr>\n",
       "      <th>3</th>\n",
       "      <td>Chubut</td>\n",
       "      <td>2015</td>\n",
       "      <td>169</td>\n",
       "      <td>3963</td>\n",
       "      <td>1870</td>\n",
       "      <td>24</td>\n",
       "      <td>11</td>\n",
       "      <td>13</td>\n",
       "      <td>9</td>\n",
       "      <td>17</td>\n",
       "      <td>10</td>\n",
       "      <td>64</td>\n",
       "      <td>127</td>\n",
       "      <td>16</td>\n",
       "    </tr>\n",
       "    <tr>\n",
       "      <th>4</th>\n",
       "      <td>CABA</td>\n",
       "      <td>2015</td>\n",
       "      <td>0</td>\n",
       "      <td>0</td>\n",
       "      <td>0</td>\n",
       "      <td>0</td>\n",
       "      <td>0</td>\n",
       "      <td>1</td>\n",
       "      <td>0</td>\n",
       "      <td>0</td>\n",
       "      <td>1</td>\n",
       "      <td>0</td>\n",
       "      <td>1</td>\n",
       "      <td>0</td>\n",
       "    </tr>\n",
       "  </tbody>\n",
       "</table>\n",
       "</div>"
      ],
      "text/plain": [
       "   jurisdicción   año  enero  febrero  marzo  abril  mayo  junio  julio  \\\n",
       "0  Buenos Aires  2015    787      543    913    836   455    758    824   \n",
       "1     Catamarca  2015      6        4      3      5    18     24     46   \n",
       "2         Chaco  2015    140      169    574    178   105    402   1211   \n",
       "3        Chubut  2015    169     3963   1870     24    11     13      9   \n",
       "4          CABA  2015      0        0      0      0     0      1      0   \n",
       "\n",
       "   agosto  septiembre  octubre  noviembre  diciembre  \n",
       "0     463        1062      441        513        672  \n",
       "1      83         173      274         44         42  \n",
       "2    1833        3996     1519        261        310  \n",
       "3      17          10       64        127         16  \n",
       "4       0           1        0          1          0  "
      ]
     },
     "execution_count": 93,
     "metadata": {},
     "output_type": "execute_result"
    }
   ],
   "source": [
    "df.head()"
   ]
  },
  {
   "cell_type": "code",
   "execution_count": 94,
   "id": "da725a69",
   "metadata": {},
   "outputs": [
    {
     "name": "stdout",
     "output_type": "stream",
     "text": [
      "14\n",
      "Index(['jurisdicción', 'año', 'enero', 'febrero', 'marzo', 'abril', 'mayo',\n",
      "       'junio', 'julio', 'agosto', 'septiembre', 'octubre', 'noviembre',\n",
      "       'diciembre'],\n",
      "      dtype='object')\n"
     ]
    }
   ],
   "source": [
    "print(len(df.columns))\n",
    "print(df.columns)\n"
   ]
  },
  {
   "cell_type": "code",
   "execution_count": 95,
   "id": "d4ea3425",
   "metadata": {},
   "outputs": [],
   "source": [
    "df.columns = ['Jurisdicción', 'Año', 'Enero', 'Febrero', 'Marzo', 'Abril', 'Mayo', 'Junio', 'Julio', 'Agosto', 'Septiembre', 'Octubre', 'Noviembre', 'Diciembre']\n"
   ]
  },
  {
   "cell_type": "code",
   "execution_count": 103,
   "id": "a9c0376d",
   "metadata": {},
   "outputs": [
    {
     "data": {
      "image/png": "[encoded data removed]",
      "text/plain": [
       "<Figure size 1200x1000 with 2 Axes>"
      ]
     },
     "metadata": {},
     "output_type": "display_data"
    }
   ],
   "source": [
    "df_meses = df.melt(id_vars=['Jurisdicción', 'Año'], var_name='mes', value_name='focos')\n",
    "\n",
    "# Agrupar por provincia y mes (suma histórica)\n",
    "heatmap_data = df_meses.groupby(['Jurisdicción', 'mes'])['focos'].sum().unstack()\n",
    "\n",
    "# Ordenar meses cronológicamente\n",
    "meses_orden = ['Enero', 'Febrero', 'Marzo', 'Abril', 'Mayo', 'Junio', 'Julio', 'Agosto', 'Septiembre', 'Octubre', 'Noviembre', 'Diciembre']\n",
    "heatmap_data = heatmap_data[meses_orden]\n",
    "\n",
    "# Heatmap\n",
    "plt.figure(figsize=(12, 10))\n",
    "sns.heatmap(heatmap_data, cmap=\"YlOrRd\", annot=False, fmt=\"d\", linewidths=0.5)\n",
    "plt.title(\"Focos de Incendios por Provincia y Mes (Total Histórico)\")\n",
    "plt.xlabel(\"Mes\")\n",
    "plt.ylabel(\"Provincia\")\n",
    "plt.savefig(\"../web/src/assets/c_focos_prov_mes.svg\", bbox_inches='tight')\n",
    "plt.show()\n"
   ]
  }
 ],
 "metadata": {
  "kernelspec": {
   "display_name": "env",
   "language": "python",
   "name": "python3"
  },
  "language_info": {
   "codemirror_mode": {
    "name": "ipython",
    "version": 3
   },
   "file_extension": ".py",
   "mimetype": "text/x-python",
   "name": "python",
   "nbconvert_exporter": "python",
   "pygments_lexer": "ipython3",
   "version": "3.12.9"
  }
 },
 "nbformat": 4,
 "nbformat_minor": 5
}
