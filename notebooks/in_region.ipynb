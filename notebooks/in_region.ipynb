{
 "cells": [
  {
   "cell_type": "code",
   "execution_count": 17,
   "id": "f232a7fd",
   "metadata": {},
   "outputs": [],
   "source": [
    "import pandas as pd\n",
    "import matplotlib.pyplot as plt"
   ]
  },
  {
   "cell_type": "code",
   "execution_count": 3,
   "id": "489c89a6",
   "metadata": {},
   "outputs": [
    {
     "data": {
      "text/html": [
       "<div>\n",
       "<style scoped>\n",
       "    .dataframe tbody tr th:only-of-type {\n",
       "        vertical-align: middle;\n",
       "    }\n",
       "\n",
       "    .dataframe tbody tr th {\n",
       "        vertical-align: top;\n",
       "    }\n",
       "\n",
       "    .dataframe thead th {\n",
       "        text-align: right;\n",
       "    }\n",
       "</style>\n",
       "<table border=\"1\" class=\"dataframe\">\n",
       "  <thead>\n",
       "    <tr style=\"text-align: right;\">\n",
       "      <th></th>\n",
       "      <th>región</th>\n",
       "      <th>año_2017</th>\n",
       "      <th>año_2018</th>\n",
       "      <th>año_2019</th>\n",
       "      <th>año_2020</th>\n",
       "      <th>año_2021</th>\n",
       "      <th>año_2022</th>\n",
       "      <th>año_2023</th>\n",
       "      <th>año_2024</th>\n",
       "      <th>año_2025</th>\n",
       "    </tr>\n",
       "  </thead>\n",
       "  <tbody>\n",
       "    <tr>\n",
       "      <th>0</th>\n",
       "      <td>TOTAL</td>\n",
       "      <td>895</td>\n",
       "      <td>1193</td>\n",
       "      <td>1503</td>\n",
       "      <td>1737</td>\n",
       "      <td>2338</td>\n",
       "      <td>2650</td>\n",
       "      <td>2212</td>\n",
       "      <td>2735</td>\n",
       "      <td>206</td>\n",
       "    </tr>\n",
       "    <tr>\n",
       "      <th>1</th>\n",
       "      <td>NOA</td>\n",
       "      <td>242</td>\n",
       "      <td>422</td>\n",
       "      <td>566</td>\n",
       "      <td>589</td>\n",
       "      <td>1229</td>\n",
       "      <td>1164</td>\n",
       "      <td>1131</td>\n",
       "      <td>1431</td>\n",
       "      <td>20</td>\n",
       "    </tr>\n",
       "    <tr>\n",
       "      <th>2</th>\n",
       "      <td>Norte</td>\n",
       "      <td>39</td>\n",
       "      <td>22</td>\n",
       "      <td>164</td>\n",
       "      <td>349</td>\n",
       "      <td>212</td>\n",
       "      <td>222</td>\n",
       "      <td>83</td>\n",
       "      <td>23</td>\n",
       "      <td>7</td>\n",
       "    </tr>\n",
       "    <tr>\n",
       "      <th>3</th>\n",
       "      <td>NEA</td>\n",
       "      <td>29</td>\n",
       "      <td>52</td>\n",
       "      <td>68</td>\n",
       "      <td>157</td>\n",
       "      <td>118</td>\n",
       "      <td>297</td>\n",
       "      <td>163</td>\n",
       "      <td>788</td>\n",
       "      <td>52</td>\n",
       "    </tr>\n",
       "    <tr>\n",
       "      <th>4</th>\n",
       "      <td>Centro</td>\n",
       "      <td>136</td>\n",
       "      <td>164</td>\n",
       "      <td>253</td>\n",
       "      <td>252</td>\n",
       "      <td>430</td>\n",
       "      <td>580</td>\n",
       "      <td>237</td>\n",
       "      <td>173</td>\n",
       "      <td>12</td>\n",
       "    </tr>\n",
       "  </tbody>\n",
       "</table>\n",
       "</div>"
      ],
      "text/plain": [
       "   región  año_2017  año_2018  año_2019  año_2020  año_2021  año_2022  \\\n",
       "0   TOTAL       895      1193      1503      1737      2338      2650   \n",
       "1     NOA       242       422       566       589      1229      1164   \n",
       "2   Norte        39        22       164       349       212       222   \n",
       "3     NEA        29        52        68       157       118       297   \n",
       "4  Centro       136       164       253       252       430       580   \n",
       "\n",
       "   año_2023  año_2024  año_2025  \n",
       "0      2212      2735       206  \n",
       "1      1131      1431        20  \n",
       "2        83        23         7  \n",
       "3       163       788        52  \n",
       "4       237       173        12  "
      ]
     },
     "execution_count": 3,
     "metadata": {},
     "output_type": "execute_result"
    }
   ],
   "source": [
    "df = pd.read_csv('../data/sucio/rii_e_cant_incendio_region_2017_2024.csv', sep=';', quotechar='\"')\n",
    "df.head()"
   ]
  },
  {
   "cell_type": "code",
   "execution_count": 18,
   "id": "1dfd6fa3",
   "metadata": {},
   "outputs": [
    {
     "data": {
      "text/plain": [
       "Región    object\n",
       "2017       int64\n",
       "2018       int64\n",
       "2019       int64\n",
       "2020       int64\n",
       "2021       int64\n",
       "2022       int64\n",
       "2023       int64\n",
       "2024       int64\n",
       "2025       int64\n",
       "dtype: object"
      ]
     },
     "execution_count": 18,
     "metadata": {},
     "output_type": "execute_result"
    }
   ],
   "source": [
    "df.dtypes"
   ]
  },
  {
   "cell_type": "code",
   "execution_count": 19,
   "id": "96027b97",
   "metadata": {},
   "outputs": [],
   "source": [
    "df.columns = ['Región', '2017', '2018', '2019', '2020', '2021', '2022', '2023', '2024', '2025']"
   ]
  },
  {
   "cell_type": "code",
   "execution_count": 20,
   "id": "d86de616",
   "metadata": {},
   "outputs": [],
   "source": [
    "df = df[df['Región'] != 'TOTAL']\n"
   ]
  },
  {
   "cell_type": "code",
   "execution_count": 21,
   "id": "0b63177e",
   "metadata": {},
   "outputs": [
    {
     "data": {
      "text/html": [
       "<div>\n",
       "<style scoped>\n",
       "    .dataframe tbody tr th:only-of-type {\n",
       "        vertical-align: middle;\n",
       "    }\n",
       "\n",
       "    .dataframe tbody tr th {\n",
       "        vertical-align: top;\n",
       "    }\n",
       "\n",
       "    .dataframe thead th {\n",
       "        text-align: right;\n",
       "    }\n",
       "</style>\n",
       "<table border=\"1\" class=\"dataframe\">\n",
       "  <thead>\n",
       "    <tr style=\"text-align: right;\">\n",
       "      <th></th>\n",
       "      <th>Región</th>\n",
       "      <th>2017</th>\n",
       "      <th>2018</th>\n",
       "      <th>2019</th>\n",
       "      <th>2020</th>\n",
       "      <th>2021</th>\n",
       "      <th>2022</th>\n",
       "      <th>2023</th>\n",
       "      <th>2024</th>\n",
       "      <th>2025</th>\n",
       "    </tr>\n",
       "  </thead>\n",
       "  <tbody>\n",
       "    <tr>\n",
       "      <th>1</th>\n",
       "      <td>NOA</td>\n",
       "      <td>242</td>\n",
       "      <td>422</td>\n",
       "      <td>566</td>\n",
       "      <td>589</td>\n",
       "      <td>1229</td>\n",
       "      <td>1164</td>\n",
       "      <td>1131</td>\n",
       "      <td>1431</td>\n",
       "      <td>20</td>\n",
       "    </tr>\n",
       "    <tr>\n",
       "      <th>2</th>\n",
       "      <td>Norte</td>\n",
       "      <td>39</td>\n",
       "      <td>22</td>\n",
       "      <td>164</td>\n",
       "      <td>349</td>\n",
       "      <td>212</td>\n",
       "      <td>222</td>\n",
       "      <td>83</td>\n",
       "      <td>23</td>\n",
       "      <td>7</td>\n",
       "    </tr>\n",
       "    <tr>\n",
       "      <th>3</th>\n",
       "      <td>NEA</td>\n",
       "      <td>29</td>\n",
       "      <td>52</td>\n",
       "      <td>68</td>\n",
       "      <td>157</td>\n",
       "      <td>118</td>\n",
       "      <td>297</td>\n",
       "      <td>163</td>\n",
       "      <td>788</td>\n",
       "      <td>52</td>\n",
       "    </tr>\n",
       "    <tr>\n",
       "      <th>4</th>\n",
       "      <td>Centro</td>\n",
       "      <td>136</td>\n",
       "      <td>164</td>\n",
       "      <td>253</td>\n",
       "      <td>252</td>\n",
       "      <td>430</td>\n",
       "      <td>580</td>\n",
       "      <td>237</td>\n",
       "      <td>173</td>\n",
       "      <td>12</td>\n",
       "    </tr>\n",
       "    <tr>\n",
       "      <th>5</th>\n",
       "      <td>Pampeana</td>\n",
       "      <td>311</td>\n",
       "      <td>349</td>\n",
       "      <td>221</td>\n",
       "      <td>201</td>\n",
       "      <td>151</td>\n",
       "      <td>279</td>\n",
       "      <td>184</td>\n",
       "      <td>92</td>\n",
       "      <td>44</td>\n",
       "    </tr>\n",
       "  </tbody>\n",
       "</table>\n",
       "</div>"
      ],
      "text/plain": [
       "     Región  2017  2018  2019  2020  2021  2022  2023  2024  2025\n",
       "1       NOA   242   422   566   589  1229  1164  1131  1431    20\n",
       "2     Norte    39    22   164   349   212   222    83    23     7\n",
       "3       NEA    29    52    68   157   118   297   163   788    52\n",
       "4    Centro   136   164   253   252   430   580   237   173    12\n",
       "5  Pampeana   311   349   221   201   151   279   184    92    44"
      ]
     },
     "execution_count": 21,
     "metadata": {},
     "output_type": "execute_result"
    }
   ],
   "source": [
    "df.head()"
   ]
  },
  {
   "cell_type": "code",
   "execution_count": 22,
   "id": "3b4666b3",
   "metadata": {},
   "outputs": [],
   "source": [
    "df_filtrado = df[['Región', '2017','2018','2019','2020', '2021', '2022', '2023','2024']]"
   ]
  },
  {
   "cell_type": "code",
   "execution_count": null,
   "id": "4c431a3d",
   "metadata": {},
   "outputs": [
    {
     "data": {
      "text/plain": [
       "<Figure size 1200x600 with 0 Axes>"
      ]
     },
     "metadata": {},
     "output_type": "display_data"
    },
    {
     "data": {
      "image/png": "[encoded data removed]",
      "text/plain": [
       "<Figure size 1200x600 with 1 Axes>"
      ]
     },
     "metadata": {},
     "output_type": "display_data"
    }
   ],
   "source": [
    "plt.figure(figsize=(12, 6))\n",
    "\n",
    "# Convertir años a nombres más simples\n",
    "df_plot = df.set_index('Región')\n",
    "df_plot.columns = [col.replace('año_', '') for col in df_plot.columns]\n",
    "\n",
    "# Gráfico de barras agrupadas\n",
    "df_plot.plot(kind='bar', width=0.8, figsize=(12, 6))\n",
    "\n",
    "plt.title('Incendios por Región', fontsize=16)\n",
    "plt.xlabel('Región', fontsize=12)\n",
    "plt.ylabel('Cantidad de Incendios', fontsize=12)\n",
    "plt.xticks(rotation=45, ha='right')\n",
    "plt.legend(title='Año', bbox_to_anchor=(1.05, 1), loc='upper left')\n",
    "plt.grid(axis='y', linestyle='--', alpha=0.7)\n",
    "plt.tight_layout()\n",
    "plt.savefig(\"../web/src/assets/c_in_region.svg\", bbox_inches='tight')\n",
    "plt.show()"
   ]
  },
  {
   "cell_type": "code",
   "execution_count": 16,
   "id": "6c59b583",
   "metadata": {},
   "outputs": [],
   "source": [
    "df.to_csv(\"../data/limpio/c_incendios_region.csv\", index=False)"
   ]
  }
 ],
 "metadata": {
  "kernelspec": {
   "display_name": "env",
   "language": "python",
   "name": "python3"
  },
  "language_info": {
   "codemirror_mode": {
    "name": "ipython",
    "version": 3
   },
   "file_extension": ".py",
   "mimetype": "text/x-python",
   "name": "python",
   "nbconvert_exporter": "python",
   "pygments_lexer": "ipython3",
   "version": "3.12.9"
  }
 },
 "nbformat": 4,
 "nbformat_minor": 5
}
